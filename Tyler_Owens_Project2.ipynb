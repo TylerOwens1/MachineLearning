{
 "cells": [
  {
   "cell_type": "markdown",
   "metadata": {},
   "source": [
    "# Treasure Hunt Game Notebook\n",
    "\n",
    "## Read and Review Your Starter Code\n",
    "The theme of this project is a popular treasure hunt game in which the player needs to find the treasure before the pirate does. While you will not be developing the entire game, you will write the part of the game that represents the intelligent agent, which is a pirate in this case. The pirate will try to find the optimal path to the treasure using deep Q-learning. \n",
    "\n",
    "You have been provided with two Python classes and this notebook to help you with this assignment. The first class, TreasureMaze.py, represents the environment, which includes a maze object defined as a matrix. The second class, GameExperience.py, stores the episodes – that is, all the states that come in between the initial state and the terminal state. This is later used by the agent for learning by experience, called \"exploration\". This notebook shows how to play a game. Your task is to complete the deep Q-learning implementation for which a skeleton implementation has been provided. The code blocs you will need to complete has #TODO as a header.\n",
    "\n",
    "First, read and review the next few code and instruction blocks to understand the code that you have been given."
   ]
  },
  {
   "cell_type": "code",
   "execution_count": 69,
   "metadata": {},
   "outputs": [],
   "source": [
    "from __future__ import print_function\n",
    "import os, sys, time, datetime, json, random\n",
    "import numpy as np\n",
    "from keras.models import Sequential\n",
    "from keras.layers.core import Dense, Activation\n",
    "from keras.optimizers import SGD , Adam, RMSprop\n",
    "from keras.layers.advanced_activations import PReLU\n",
    "import matplotlib.pyplot as plt\n",
    "from TreasureMaze import TreasureMaze\n",
    "from GameExperience import GameExperience\n",
    "%matplotlib inline"
   ]
  },
  {
   "cell_type": "markdown",
   "metadata": {},
   "source": [
    "The following code block contains an 8x8 matrix that will be used as a maze object:"
   ]
  },
  {
   "cell_type": "code",
   "execution_count": 70,
   "metadata": {},
   "outputs": [],
   "source": [
    "maze = np.array([\n",
    "    [ 1.,  0.,  1.,  1.,  1.,  1.,  1.,  1.],\n",
    "    [ 1.,  0.,  1.,  1.,  1.,  0.,  1.,  1.],\n",
    "    [ 1.,  1.,  1.,  1.,  0.,  1.,  0.,  1.],\n",
    "    [ 1.,  1.,  1.,  0.,  1.,  1.,  1.,  1.],\n",
    "    [ 1.,  1.,  0.,  1.,  1.,  1.,  1.,  1.],\n",
    "    [ 1.,  1.,  1.,  0.,  1.,  0.,  0.,  0.],\n",
    "    [ 1.,  1.,  1.,  0.,  1.,  1.,  1.,  1.],\n",
    "    [ 1.,  1.,  1.,  1.,  0.,  1.,  1.,  1.]\n",
    "])"
   ]
  },
  {
   "cell_type": "markdown",
   "metadata": {},
   "source": [
    "This helper function allows a visual representation of the maze object:"
   ]
  },
  {
   "cell_type": "code",
   "execution_count": 71,
   "metadata": {},
   "outputs": [],
   "source": [
    "def show(qmaze):\n",
    "    plt.grid('on')\n",
    "    nrows, ncols = qmaze.maze.shape\n",
    "    ax = plt.gca()\n",
    "    ax.set_xticks(np.arange(0.5, nrows, 1))\n",
    "    ax.set_yticks(np.arange(0.5, ncols, 1))\n",
    "    ax.set_xticklabels([])\n",
    "    ax.set_yticklabels([])\n",
    "    canvas = np.copy(qmaze.maze)\n",
    "    for row,col in qmaze.visited:\n",
    "        canvas[row,col] = 0.6\n",
    "    pirate_row, pirate_col, _ = qmaze.state\n",
    "    canvas[pirate_row, pirate_col] = 0.3   # pirate cell\n",
    "    canvas[nrows-1, ncols-1] = 0.9 # treasure cell\n",
    "    img = plt.imshow(canvas, interpolation='none', cmap='gray')\n",
    "    return img"
   ]
  },
  {
   "cell_type": "markdown",
   "metadata": {},
   "source": [
    "The pirate agent can move in four directions: left, right, up, and down. \n",
    "\n",
    "While the agent primarily learns by experience through exploitation, often, the agent can choose to explore the environment to find previously undiscovered paths. This is called \"exploration\" and is defined by epsilon. This value is typically a lower value such as 0.1, which means for every ten attempts, the agent will attempt to learn by experience nine times and will randomly explore a new path one time. You are encouraged to try various values for the exploration factor and see how the algorithm performs."
   ]
  },
  {
   "cell_type": "code",
   "execution_count": 72,
   "metadata": {},
   "outputs": [],
   "source": [
    "LEFT = 0\n",
    "UP = 1\n",
    "RIGHT = 2\n",
    "DOWN = 3\n",
    "\n",
    "\n",
    "# Exploration factor\n",
    "epsilon = 0.1\n",
    "\n",
    "# Actions dictionary\n",
    "actions_dict = {\n",
    "    LEFT: 'left',\n",
    "    UP: 'up',\n",
    "    RIGHT: 'right',\n",
    "    DOWN: 'down',\n",
    "}\n",
    "\n",
    "num_actions = len(actions_dict)\n"
   ]
  },
  {
   "cell_type": "markdown",
   "metadata": {},
   "source": [
    "The sample code block and output below show creating a maze object and performing one action (DOWN), which returns the reward. The resulting updated environment is visualized."
   ]
  },
  {
   "cell_type": "code",
   "execution_count": 73,
   "metadata": {},
   "outputs": [
    {
     "name": "stdout",
     "output_type": "stream",
     "text": [
      "reward= -0.04\n"
     ]
    },
    {
     "data": {
      "text/plain": [
       "<matplotlib.image.AxesImage at 0x2286cfdeb08>"
      ]
     },
     "execution_count": 73,
     "metadata": {},
     "output_type": "execute_result"
    },
    {
     "data": {
      "image/png": "[encoded data removed]",
      "text/plain": [
       "<Figure size 432x288 with 1 Axes>"
      ]
     },
     "metadata": {
      "needs_background": "light"
     },
     "output_type": "display_data"
    }
   ],
   "source": [
    "qmaze = TreasureMaze(maze)\n",
    "canvas, reward, game_over = qmaze.act(DOWN)\n",
    "print(\"reward=\", reward)\n",
    "show(qmaze)"
   ]
  },
  {
   "cell_type": "markdown",
   "metadata": {},
   "source": [
    "This function simulates a full game based on the provided trained model. The other parameters include the TreasureMaze object and the starting position of the pirate."
   ]
  },
  {
   "cell_type": "code",
   "execution_count": 74,
   "metadata": {},
   "outputs": [],
   "source": [
    "def play_game(model, qmaze, pirate_cell):\n",
    "    qmaze.reset(pirate_cell)\n",
    "    envstate = qmaze.observe()\n",
    "    while True:\n",
    "        prev_envstate = envstate\n",
    "        # get next action\n",
    "        q = model.predict(prev_envstate)\n",
    "        action = np.argmax(q[0])\n",
    "\n",
    "        # apply action, get rewards and new state\n",
    "        envstate, reward, game_status = qmaze.act(action)\n",
    "        if game_status == 'win':\n",
    "            return True\n",
    "        elif game_status == 'lose':\n",
    "            return False"
   ]
  },
  {
   "cell_type": "markdown",
   "metadata": {},
   "source": [
    "This function helps you to determine whether the pirate can win any game at all. If your maze is not well designed, the pirate may not win any game at all. In this case, your training would not yield any result. The provided maze in this notebook ensures that there is a path to win and you can run this method to check."
   ]
  },
  {
   "cell_type": "code",
   "execution_count": 75,
   "metadata": {},
   "outputs": [],
   "source": [
    "def completion_check(model, qmaze):\n",
    "    for cell in qmaze.free_cells:\n",
    "        if not qmaze.valid_actions(cell):\n",
    "            return False\n",
    "        if not play_game(model, qmaze, cell):\n",
    "            return False\n",
    "    return True"
   ]
  },
  {
   "cell_type": "markdown",
   "metadata": {},
   "source": [
    "The code you have been given in this block will build the neural network model. Review the code and note the number of layers, as well as the activation, optimizer, and loss functions that are used to train the model."
   ]
  },
  {
   "cell_type": "code",
   "execution_count": 76,
   "metadata": {},
   "outputs": [],
   "source": [
    "def build_model(maze):\n",
    "    model = Sequential()\n",
    "    model.add(Dense(maze.size, input_shape=(maze.size,)))\n",
    "    model.add(PReLU())\n",
    "    model.add(Dense(maze.size))\n",
    "    model.add(PReLU())\n",
    "    model.add(Dense(num_actions))\n",
    "    model.compile(optimizer='adam', loss='mse')\n",
    "    return model"
   ]
  },
  {
   "cell_type": "markdown",
   "metadata": {},
   "source": [
    "# #TODO: Complete the Q-Training Algorithm Code Block\n",
    "\n",
    "This is your deep Q-learning implementation. The goal of your deep Q-learning implementation is to find the best possible navigation sequence that results in reaching the treasure cell while maximizing the reward. In your implementation, you need to determine the optimal number of epochs to achieve a 100% win rate.\n",
    "\n",
    "You will need to complete the section starting with #pseudocode. The pseudocode has been included for you."
   ]
  },
  {
   "cell_type": "code",
   "execution_count": 77,
   "metadata": {},
   "outputs": [],
   "source": [
    "def qtrain(model, maze, **opt):\n",
    "\n",
    "    # exploration factor\n",
    "    global epsilon \n",
    "\n",
    "    # number of epochs\n",
    "    n_epoch = opt.get('epoch', 1000)\n",
    "\n",
    "    # maximum memory to store episodes\n",
    "    max_memory = opt.get('max_memory', 1000)\n",
    "\n",
    "    # maximum data size for training\n",
    "    data_size = opt.get('data_size', 50)\n",
    "\n",
    "    # start time\n",
    "    start_time = datetime.datetime.now()\n",
    "\n",
    "    # Construct environment/game from numpy array: maze (see above)\n",
    "    qmaze = TreasureMaze(maze)\n",
    "\n",
    "    # Initialize experience replay object\n",
    "    experience = GameExperience(model, max_memory=max_memory)\n",
    "    \n",
    "    win_history = []   # history of win/lose game\n",
    "    hsize = qmaze.maze.size//2   # history window size\n",
    "    win_rate = 0.0\n",
    "    \n",
    "    n_episodes = 0\n",
    "    \n",
    "    # pseudocode:\n",
    "    # For each epoch:\n",
    "    for epoch in range (n_epoch) :\n",
    "        loss = 0.0\n",
    "    #    Agent_cell = randomly select a free cell\n",
    "        agent_cell = (random.randint(0, 7), random.randint(0, 7))\n",
    "        while not qmaze.valid_actions(agent_cell) :\n",
    "            agent_cell = (random.randint(0, 7), random.randint(0, 7))\n",
    "        \n",
    "    #    Reset the maze with agent set to above position\n",
    "    #    Hint: Review the reset method in the TreasureMaze.py class.\n",
    "        qmaze.reset(agent_cell)\n",
    "    #    Hint: Review the observe method in the TreasureMaze.py class.\n",
    "        envstate = qmaze.observe()\n",
    "        \n",
    "        game_over = False\n",
    "        game_status = 'not_over'\n",
    "    #    While state is not game over:\n",
    "        while not game_over :\n",
    "            valid_action = qmaze.valid_actions(agent_cell)\n",
    "            if not valid_action : break\n",
    "            previous_envstate = envstate\n",
    "    #        Action = randomly choose action (left, right, up, down) either by exploration or by exploitation\n",
    "            if np.random.rand() < epsilon:\n",
    "                action = random.choice(valid_action)\n",
    "            else :\n",
    "                action = np.argmax(experience.predict(previous_envstate))\n",
    "    #        envstate, reward, game_status = qmaze.act(action)\n",
    "            envstate, reward, game_status = qmaze.act(action)\n",
    "            if game_status == 'win':\n",
    "                win_history.append(1)\n",
    "                game_over = True\n",
    "            elif game_status == 'lose':\n",
    "                win_history.append(0)\n",
    "                game_over = True\n",
    "            else:\n",
    "                game_over = False\n",
    "    #    Hint: Review the act method in the TreasureMaze.py class.\n",
    "    #        episode = [previous_envstate, action, reward, envstate, game_status]\n",
    "            episode = [previous_envstate, action, reward, envstate, game_status]\n",
    "    #        Store episode in Experience replay object\n",
    "    #    Hint: Review the remember method in the GameExperience.py class.\n",
    "            experience.remember(episode)\n",
    "            n_episodes += 1\n",
    "    #        Train neural network model and evaluate loss\n",
    "    #    Hint: Call GameExperience.get_data to retrieve training data (input and target) and pass to model.fit method \n",
    "    #          to train the model. You can call model.evaluate to determine loss.\n",
    "            inputs, target = experience.get_data(data_size=data_size)\n",
    "            h = model.fit(\n",
    "                inputs,\n",
    "                target,\n",
    "                epochs=8,\n",
    "                batch_size=16,\n",
    "                verbose=0,\n",
    "            )\n",
    "            loss = model.evaluate(inputs, target, verbose=0)\n",
    "    #    If the win rate is above the threshold and your model passes the completion check, that would be your epoch.\n",
    "\n",
    "        if len(win_history) > hsize:\n",
    "            win_rate = sum(win_history[-hsize:]) / hsize\n",
    "\n",
    "    #Print the epoch, loss, episodes, win count, and win rate for each epoch\n",
    "        dt = datetime.datetime.now() - start_time\n",
    "        t = format_time(dt.total_seconds())\n",
    "        template = \"Epoch: {:03d}/{:d} | Loss: {:.4f} | Episodes: {:d} | Win count: {:d} | Win rate: {:.3f} | time: {}\"\n",
    "        print(template.format(epoch, n_epoch-1, loss, n_episodes, sum(win_history), win_rate, t))\n",
    "        # We simply check if training has exhausted all free cells and if in all\n",
    "        # cases the agent won.\n",
    "        if win_rate > 0.9 : epsilon = 0.05\n",
    "        if sum(win_history[-hsize:]) == hsize and completion_check(model, qmaze):\n",
    "            print(\"Reached 100%% win rate at epoch: %d\" % (epoch,))\n",
    "            break\n",
    "    \n",
    "    \n",
    "    # Determine the total time for training\n",
    "    dt = datetime.datetime.now() - start_time\n",
    "    seconds = dt.total_seconds()\n",
    "    t = format_time(seconds)\n",
    "\n",
    "    print(\"n_epoch: %d, max_mem: %d, data: %d, time: %s\" % (epoch, max_memory, data_size, t))\n",
    "    return seconds\n",
    "\n",
    "# This is a small utility for printing readable time strings:\n",
    "def format_time(seconds):\n",
    "    if seconds < 400:\n",
    "        s = float(seconds)\n",
    "        return \"%.1f seconds\" % (s,)\n",
    "    elif seconds < 4000:\n",
    "        m = seconds / 60.0\n",
    "        return \"%.2f minutes\" % (m,)\n",
    "    else:\n",
    "        h = seconds / 3600.0\n",
    "        return \"%.2f hours\" % (h,)"
   ]
  },
  {
   "cell_type": "markdown",
   "metadata": {},
   "source": [
    "## Test Your Model\n",
    "\n",
    "Now we will start testing the deep Q-learning implementation. To begin, select **Cell**, then **Run All** from the menu bar. This will run your notebook. As it runs, you should see output begin to appear beneath the next few cells. The code below creates an instance of TreasureMaze."
   ]
  },
  {
   "cell_type": "code",
   "execution_count": 78,
   "metadata": {},
   "outputs": [
    {
     "data": {
      "text/plain": [
       "<matplotlib.image.AxesImage at 0x228662ff8c8>"
      ]
     },
     "execution_count": 78,
     "metadata": {},
     "output_type": "execute_result"
    },
    {
     "data": {
      "image/png": "[encoded data removed]",
      "text/plain": [
       "<Figure size 432x288 with 1 Axes>"
      ]
     },
     "metadata": {
      "needs_background": "light"
     },
     "output_type": "display_data"
    }
   ],
   "source": [
    "qmaze = TreasureMaze(maze)\n",
    "show(qmaze)"
   ]
  },
  {
   "cell_type": "markdown",
   "metadata": {},
   "source": [
    "In the next code block, you will build your model and train it using deep Q-learning. Note: This step takes several minutes to fully run."
   ]
  },
  {
   "cell_type": "code",
   "execution_count": 79,
   "metadata": {},
   "outputs": [
    {
     "name": "stdout",
     "output_type": "stream",
     "text": [
      "Epoch: 000/999 | Loss: 0.0000 | Episodes: 136 | Win count: 0 | Win rate: 0.000 | time: 14.5 seconds\n",
      "Epoch: 001/999 | Loss: 0.0000 | Episodes: 270 | Win count: 0 | Win rate: 0.000 | time: 29.9 seconds\n",
      "Epoch: 002/999 | Loss: 0.0005 | Episodes: 404 | Win count: 0 | Win rate: 0.000 | time: 44.7 seconds\n",
      "Epoch: 003/999 | Loss: 0.0002 | Episodes: 538 | Win count: 0 | Win rate: 0.000 | time: 60.0 seconds\n",
      "Epoch: 004/999 | Loss: 0.0004 | Episodes: 672 | Win count: 0 | Win rate: 0.000 | time: 74.5 seconds\n",
      "Epoch: 005/999 | Loss: 0.0003 | Episodes: 804 | Win count: 1 | Win rate: 0.000 | time: 89.5 seconds\n",
      "Epoch: 006/999 | Loss: 0.0110 | Episodes: 809 | Win count: 2 | Win rate: 0.000 | time: 90.0 seconds\n",
      "Epoch: 007/999 | Loss: 0.0004 | Episodes: 948 | Win count: 2 | Win rate: 0.000 | time: 105.1 seconds\n",
      "Epoch: 008/999 | Loss: 0.0007 | Episodes: 1086 | Win count: 3 | Win rate: 0.000 | time: 120.7 seconds\n",
      "Epoch: 009/999 | Loss: 0.0011 | Episodes: 1091 | Win count: 4 | Win rate: 0.000 | time: 121.3 seconds\n",
      "Epoch: 010/999 | Loss: 0.0001 | Episodes: 1093 | Win count: 5 | Win rate: 0.000 | time: 121.5 seconds\n",
      "Epoch: 011/999 | Loss: 0.0002 | Episodes: 1228 | Win count: 5 | Win rate: 0.000 | time: 136.5 seconds\n",
      "Epoch: 012/999 | Loss: 0.0003 | Episodes: 1265 | Win count: 6 | Win rate: 0.000 | time: 140.6 seconds\n",
      "Epoch: 013/999 | Loss: 0.0006 | Episodes: 1397 | Win count: 6 | Win rate: 0.000 | time: 155.8 seconds\n",
      "Epoch: 014/999 | Loss: 0.0007 | Episodes: 1536 | Win count: 6 | Win rate: 0.000 | time: 171.1 seconds\n",
      "Epoch: 015/999 | Loss: 0.0006 | Episodes: 1677 | Win count: 6 | Win rate: 0.000 | time: 186.9 seconds\n",
      "Epoch: 016/999 | Loss: 0.0006 | Episodes: 1814 | Win count: 6 | Win rate: 0.000 | time: 202.1 seconds\n",
      "Epoch: 017/999 | Loss: 0.0010 | Episodes: 1816 | Win count: 7 | Win rate: 0.000 | time: 202.3 seconds\n",
      "Epoch: 018/999 | Loss: 0.0003 | Episodes: 1956 | Win count: 7 | Win rate: 0.000 | time: 218.1 seconds\n",
      "Epoch: 019/999 | Loss: 0.0007 | Episodes: 2092 | Win count: 8 | Win rate: 0.000 | time: 233.4 seconds\n",
      "Epoch: 020/999 | Loss: 0.0053 | Episodes: 2158 | Win count: 9 | Win rate: 0.000 | time: 240.7 seconds\n",
      "Epoch: 021/999 | Loss: 0.0006 | Episodes: 2190 | Win count: 10 | Win rate: 0.000 | time: 244.5 seconds\n",
      "Epoch: 022/999 | Loss: 0.0006 | Episodes: 2333 | Win count: 10 | Win rate: 0.000 | time: 260.8 seconds\n",
      "Epoch: 023/999 | Loss: 0.0017 | Episodes: 2472 | Win count: 10 | Win rate: 0.000 | time: 276.4 seconds\n",
      "Epoch: 024/999 | Loss: 0.0004 | Episodes: 2606 | Win count: 10 | Win rate: 0.000 | time: 291.6 seconds\n",
      "Epoch: 025/999 | Loss: 0.0007 | Episodes: 2747 | Win count: 10 | Win rate: 0.000 | time: 306.6 seconds\n",
      "Epoch: 026/999 | Loss: 0.0012 | Episodes: 2828 | Win count: 11 | Win rate: 0.000 | time: 315.7 seconds\n",
      "Epoch: 027/999 | Loss: 0.0007 | Episodes: 2839 | Win count: 12 | Win rate: 0.000 | time: 317.0 seconds\n",
      "Epoch: 028/999 | Loss: 0.0010 | Episodes: 2908 | Win count: 13 | Win rate: 0.000 | time: 325.0 seconds\n",
      "Epoch: 029/999 | Loss: 0.0012 | Episodes: 2972 | Win count: 14 | Win rate: 0.000 | time: 331.9 seconds\n",
      "Epoch: 030/999 | Loss: 0.0006 | Episodes: 3056 | Win count: 15 | Win rate: 0.000 | time: 341.3 seconds\n",
      "Epoch: 031/999 | Loss: 0.0004 | Episodes: 3085 | Win count: 16 | Win rate: 0.000 | time: 344.6 seconds\n",
      "Epoch: 032/999 | Loss: 0.0004 | Episodes: 3219 | Win count: 16 | Win rate: 0.500 | time: 359.6 seconds\n",
      "Epoch: 033/999 | Loss: 0.0007 | Episodes: 3294 | Win count: 17 | Win rate: 0.531 | time: 367.9 seconds\n",
      "Epoch: 034/999 | Loss: 0.0008 | Episodes: 3296 | Win count: 18 | Win rate: 0.562 | time: 368.1 seconds\n",
      "Epoch: 035/999 | Loss: 0.0007 | Episodes: 3322 | Win count: 19 | Win rate: 0.594 | time: 371.0 seconds\n",
      "Epoch: 036/999 | Loss: 0.0006 | Episodes: 3326 | Win count: 20 | Win rate: 0.625 | time: 371.5 seconds\n",
      "Epoch: 037/999 | Loss: 0.0006 | Episodes: 3342 | Win count: 21 | Win rate: 0.625 | time: 373.3 seconds\n",
      "Epoch: 038/999 | Loss: 0.0008 | Episodes: 3392 | Win count: 22 | Win rate: 0.625 | time: 378.7 seconds\n",
      "Epoch: 039/999 | Loss: 0.0008 | Episodes: 3426 | Win count: 23 | Win rate: 0.656 | time: 382.6 seconds\n",
      "Epoch: 040/999 | Loss: 0.0005 | Episodes: 3438 | Win count: 24 | Win rate: 0.656 | time: 384.0 seconds\n",
      "Epoch: 041/999 | Loss: 0.0007 | Episodes: 3445 | Win count: 25 | Win rate: 0.656 | time: 384.8 seconds\n",
      "Epoch: 042/999 | Loss: 0.0001 | Episodes: 3461 | Win count: 26 | Win rate: 0.656 | time: 386.6 seconds\n",
      "Epoch: 043/999 | Loss: 0.0002 | Episodes: 3474 | Win count: 27 | Win rate: 0.688 | time: 388.1 seconds\n",
      "Epoch: 044/999 | Loss: 0.0003 | Episodes: 3544 | Win count: 28 | Win rate: 0.688 | time: 396.1 seconds\n",
      "Epoch: 045/999 | Loss: 0.0003 | Episodes: 3548 | Win count: 29 | Win rate: 0.719 | time: 396.6 seconds\n",
      "Epoch: 046/999 | Loss: 0.0004 | Episodes: 3575 | Win count: 30 | Win rate: 0.750 | time: 399.7 seconds\n",
      "Epoch: 047/999 | Loss: 0.0000 | Episodes: 3579 | Win count: 31 | Win rate: 0.781 | time: 6.67 minutes\n",
      "Epoch: 048/999 | Loss: 0.0002 | Episodes: 3597 | Win count: 32 | Win rate: 0.812 | time: 6.71 minutes\n",
      "Epoch: 049/999 | Loss: 0.0002 | Episodes: 3619 | Win count: 33 | Win rate: 0.812 | time: 6.75 minutes\n",
      "Epoch: 050/999 | Loss: 0.0002 | Episodes: 3653 | Win count: 34 | Win rate: 0.844 | time: 6.81 minutes\n",
      "Epoch: 051/999 | Loss: 0.0003 | Episodes: 3659 | Win count: 35 | Win rate: 0.844 | time: 6.82 minutes\n",
      "Epoch: 052/999 | Loss: 0.0002 | Episodes: 3676 | Win count: 36 | Win rate: 0.844 | time: 6.86 minutes\n",
      "Epoch: 053/999 | Loss: 0.0006 | Episodes: 3748 | Win count: 37 | Win rate: 0.844 | time: 6.99 minutes\n",
      "Epoch: 054/999 | Loss: 0.0010 | Episodes: 3769 | Win count: 38 | Win rate: 0.875 | time: 7.03 minutes\n",
      "Epoch: 055/999 | Loss: 0.0005 | Episodes: 3775 | Win count: 39 | Win rate: 0.906 | time: 7.04 minutes\n",
      "Epoch: 056/999 | Loss: 0.0005 | Episodes: 3788 | Win count: 40 | Win rate: 0.938 | time: 7.07 minutes\n",
      "Epoch: 057/999 | Loss: 0.0002 | Episodes: 3810 | Win count: 41 | Win rate: 0.969 | time: 7.11 minutes\n",
      "Epoch: 058/999 | Loss: 0.0005 | Episodes: 3821 | Win count: 42 | Win rate: 0.969 | time: 7.13 minutes\n",
      "Epoch: 059/999 | Loss: 0.0003 | Episodes: 3848 | Win count: 43 | Win rate: 0.969 | time: 7.18 minutes\n",
      "Epoch: 060/999 | Loss: 0.0007 | Episodes: 3851 | Win count: 44 | Win rate: 0.969 | time: 7.18 minutes\n",
      "Epoch: 061/999 | Loss: 0.0006 | Episodes: 3858 | Win count: 45 | Win rate: 0.969 | time: 7.20 minutes\n",
      "Epoch: 062/999 | Loss: 0.0005 | Episodes: 3885 | Win count: 46 | Win rate: 0.969 | time: 7.25 minutes\n",
      "Epoch: 063/999 | Loss: 0.0005 | Episodes: 3903 | Win count: 47 | Win rate: 0.969 | time: 7.28 minutes\n",
      "Epoch: 064/999 | Loss: 0.0002 | Episodes: 3905 | Win count: 48 | Win rate: 1.000 | time: 7.29 minutes\n",
      "Epoch: 065/999 | Loss: 0.0008 | Episodes: 3926 | Win count: 49 | Win rate: 1.000 | time: 7.33 minutes\n",
      "Epoch: 066/999 | Loss: 0.0006 | Episodes: 3956 | Win count: 50 | Win rate: 1.000 | time: 7.39 minutes\n",
      "Epoch: 067/999 | Loss: 0.0002 | Episodes: 4094 | Win count: 50 | Win rate: 0.969 | time: 7.66 minutes\n",
      "Epoch: 068/999 | Loss: 0.0002 | Episodes: 4144 | Win count: 51 | Win rate: 0.969 | time: 7.75 minutes\n",
      "Epoch: 069/999 | Loss: 0.0002 | Episodes: 4149 | Win count: 52 | Win rate: 0.969 | time: 7.76 minutes\n",
      "Epoch: 070/999 | Loss: 0.0004 | Episodes: 4157 | Win count: 53 | Win rate: 0.969 | time: 7.78 minutes\n",
      "Epoch: 071/999 | Loss: 0.0004 | Episodes: 4205 | Win count: 54 | Win rate: 0.969 | time: 7.87 minutes\n",
      "Epoch: 072/999 | Loss: 0.0001 | Episodes: 4227 | Win count: 55 | Win rate: 0.969 | time: 7.91 minutes\n",
      "Epoch: 073/999 | Loss: 0.0004 | Episodes: 4246 | Win count: 56 | Win rate: 0.969 | time: 7.94 minutes\n",
      "Epoch: 074/999 | Loss: 0.0003 | Episodes: 4255 | Win count: 57 | Win rate: 0.969 | time: 7.96 minutes\n",
      "Epoch: 075/999 | Loss: 0.0002 | Episodes: 4300 | Win count: 58 | Win rate: 0.969 | time: 8.04 minutes\n",
      "Epoch: 076/999 | Loss: 0.0005 | Episodes: 4317 | Win count: 59 | Win rate: 0.969 | time: 8.08 minutes\n",
      "Epoch: 077/999 | Loss: 0.0003 | Episodes: 4329 | Win count: 60 | Win rate: 0.969 | time: 8.10 minutes\n",
      "Epoch: 078/999 | Loss: 0.0004 | Episodes: 4352 | Win count: 61 | Win rate: 0.969 | time: 8.15 minutes\n",
      "Epoch: 079/999 | Loss: 0.0004 | Episodes: 4488 | Win count: 61 | Win rate: 0.938 | time: 8.41 minutes\n",
      "Epoch: 080/999 | Loss: 0.0004 | Episodes: 4509 | Win count: 62 | Win rate: 0.938 | time: 8.45 minutes\n"
     ]
    },
    {
     "name": "stdout",
     "output_type": "stream",
     "text": [
      "Epoch: 081/999 | Loss: 0.0006 | Episodes: 4644 | Win count: 62 | Win rate: 0.906 | time: 8.71 minutes\n",
      "Epoch: 082/999 | Loss: 0.0007 | Episodes: 4668 | Win count: 63 | Win rate: 0.906 | time: 8.76 minutes\n",
      "Epoch: 083/999 | Loss: 0.0006 | Episodes: 4670 | Win count: 64 | Win rate: 0.906 | time: 8.76 minutes\n",
      "Epoch: 084/999 | Loss: 0.0003 | Episodes: 4672 | Win count: 65 | Win rate: 0.906 | time: 8.77 minutes\n",
      "Epoch: 085/999 | Loss: 0.0002 | Episodes: 4677 | Win count: 66 | Win rate: 0.906 | time: 8.78 minutes\n",
      "Epoch: 086/999 | Loss: 0.0006 | Episodes: 4679 | Win count: 67 | Win rate: 0.906 | time: 8.78 minutes\n",
      "Epoch: 087/999 | Loss: 0.0002 | Episodes: 4681 | Win count: 68 | Win rate: 0.906 | time: 8.78 minutes\n",
      "Epoch: 088/999 | Loss: 0.0004 | Episodes: 4687 | Win count: 69 | Win rate: 0.906 | time: 8.79 minutes\n",
      "Epoch: 089/999 | Loss: 0.0003 | Episodes: 4700 | Win count: 70 | Win rate: 0.906 | time: 8.82 minutes\n",
      "Epoch: 090/999 | Loss: 0.0006 | Episodes: 4718 | Win count: 71 | Win rate: 0.906 | time: 8.85 minutes\n",
      "Epoch: 091/999 | Loss: 0.0003 | Episodes: 4744 | Win count: 72 | Win rate: 0.906 | time: 8.90 minutes\n",
      "Epoch: 092/999 | Loss: 0.0002 | Episodes: 4766 | Win count: 73 | Win rate: 0.906 | time: 8.95 minutes\n",
      "Epoch: 093/999 | Loss: 0.0002 | Episodes: 4794 | Win count: 74 | Win rate: 0.906 | time: 9.00 minutes\n",
      "Epoch: 094/999 | Loss: 0.0003 | Episodes: 4822 | Win count: 75 | Win rate: 0.906 | time: 9.05 minutes\n",
      "Epoch: 095/999 | Loss: 0.0001 | Episodes: 4824 | Win count: 76 | Win rate: 0.906 | time: 9.05 minutes\n",
      "Epoch: 096/999 | Loss: 0.0004 | Episodes: 4826 | Win count: 77 | Win rate: 0.906 | time: 9.06 minutes\n",
      "Epoch: 097/999 | Loss: 0.0002 | Episodes: 4831 | Win count: 78 | Win rate: 0.906 | time: 9.07 minutes\n",
      "Epoch: 098/999 | Loss: 0.0006 | Episodes: 4913 | Win count: 79 | Win rate: 0.906 | time: 9.22 minutes\n",
      "Epoch: 099/999 | Loss: 0.0004 | Episodes: 4953 | Win count: 80 | Win rate: 0.938 | time: 9.29 minutes\n",
      "Epoch: 100/999 | Loss: 0.0006 | Episodes: 4982 | Win count: 81 | Win rate: 0.938 | time: 9.35 minutes\n",
      "Epoch: 101/999 | Loss: 0.0006 | Episodes: 4984 | Win count: 82 | Win rate: 0.938 | time: 9.35 minutes\n",
      "Epoch: 102/999 | Loss: 0.0005 | Episodes: 4997 | Win count: 83 | Win rate: 0.938 | time: 9.38 minutes\n",
      "Epoch: 103/999 | Loss: 0.0007 | Episodes: 5021 | Win count: 84 | Win rate: 0.938 | time: 9.42 minutes\n",
      "Epoch: 104/999 | Loss: 0.0003 | Episodes: 5027 | Win count: 85 | Win rate: 0.938 | time: 9.43 minutes\n",
      "Epoch: 105/999 | Loss: 0.0004 | Episodes: 5093 | Win count: 86 | Win rate: 0.938 | time: 9.55 minutes\n",
      "Epoch: 106/999 | Loss: 0.0008 | Episodes: 5108 | Win count: 87 | Win rate: 0.938 | time: 9.58 minutes\n",
      "Epoch: 107/999 | Loss: 0.0006 | Episodes: 5145 | Win count: 88 | Win rate: 0.938 | time: 9.65 minutes\n",
      "Epoch: 108/999 | Loss: 0.0002 | Episodes: 5147 | Win count: 89 | Win rate: 0.938 | time: 9.65 minutes\n",
      "Epoch: 109/999 | Loss: 0.0004 | Episodes: 5148 | Win count: 90 | Win rate: 0.938 | time: 9.65 minutes\n",
      "Epoch: 110/999 | Loss: 0.0003 | Episodes: 5154 | Win count: 91 | Win rate: 0.938 | time: 9.66 minutes\n",
      "Epoch: 111/999 | Loss: 0.0005 | Episodes: 5159 | Win count: 92 | Win rate: 0.969 | time: 9.67 minutes\n",
      "Epoch: 112/999 | Loss: 0.0007 | Episodes: 5182 | Win count: 93 | Win rate: 0.969 | time: 9.72 minutes\n",
      "Epoch: 113/999 | Loss: 0.0007 | Episodes: 5200 | Win count: 94 | Win rate: 1.000 | time: 9.75 minutes\n",
      "Epoch: 114/999 | Loss: 0.0002 | Episodes: 5223 | Win count: 95 | Win rate: 1.000 | time: 9.79 minutes\n",
      "Epoch: 115/999 | Loss: 0.0004 | Episodes: 5225 | Win count: 96 | Win rate: 1.000 | time: 9.80 minutes\n",
      "Epoch: 116/999 | Loss: 0.0002 | Episodes: 5238 | Win count: 97 | Win rate: 1.000 | time: 9.83 minutes\n",
      "Epoch: 117/999 | Loss: 0.0006 | Episodes: 5288 | Win count: 98 | Win rate: 1.000 | time: 9.92 minutes\n",
      "Epoch: 118/999 | Loss: 0.0003 | Episodes: 5313 | Win count: 99 | Win rate: 1.000 | time: 9.97 minutes\n",
      "Epoch: 119/999 | Loss: 0.0006 | Episodes: 5360 | Win count: 100 | Win rate: 1.000 | time: 10.06 minutes\n",
      "Epoch: 120/999 | Loss: 0.0002 | Episodes: 5407 | Win count: 101 | Win rate: 1.000 | time: 10.15 minutes\n",
      "Epoch: 121/999 | Loss: 0.0002 | Episodes: 5436 | Win count: 102 | Win rate: 1.000 | time: 10.20 minutes\n",
      "Epoch: 122/999 | Loss: 0.0001 | Episodes: 5457 | Win count: 103 | Win rate: 1.000 | time: 10.24 minutes\n",
      "Epoch: 123/999 | Loss: 0.0002 | Episodes: 5473 | Win count: 104 | Win rate: 1.000 | time: 10.28 minutes\n",
      "Reached 100% win rate at epoch: 123\n",
      "n_epoch: 123, max_mem: 512, data: 32, time: 10.29 minutes\n"
     ]
    },
    {
     "data": {
      "text/plain": [
       "617.160397"
      ]
     },
     "execution_count": 79,
     "metadata": {},
     "output_type": "execute_result"
    }
   ],
   "source": [
    "model = build_model(maze)\n",
    "qtrain(model, maze, epochs=1000, max_memory=8*maze.size, data_size=32)"
   ]
  },
  {
   "cell_type": "markdown",
   "metadata": {},
   "source": [
    "This cell will check to see if the model passes the completion check. Note: This could take several minutes."
   ]
  },
  {
   "cell_type": "code",
   "execution_count": 80,
   "metadata": {},
   "outputs": [
    {
     "data": {
      "text/plain": [
       "<matplotlib.image.AxesImage at 0x2280804fec8>"
      ]
     },
     "execution_count": 80,
     "metadata": {},
     "output_type": "execute_result"
    },
    {
     "data": {
      "image/png": "[encoded data removed]",
      "text/plain": [
       "<Figure size 432x288 with 1 Axes>"
      ]
     },
     "metadata": {
      "needs_background": "light"
     },
     "output_type": "display_data"
    }
   ],
   "source": [
    "completion_check(model, qmaze)\n",
    "show(qmaze)"
   ]
  },
  {
   "cell_type": "markdown",
   "metadata": {},
   "source": [
    "This cell will test your model for one game. It will start the pirate at the top-left corner and run play_game. The agent should find a path from the starting position to the target (treasure). The treasure is located in the bottom-right corner."
   ]
  },
  {
   "cell_type": "code",
   "execution_count": 81,
   "metadata": {},
   "outputs": [
    {
     "data": {
      "text/plain": [
       "<matplotlib.image.AxesImage at 0x2280943fc48>"
      ]
     },
     "execution_count": 81,
     "metadata": {},
     "output_type": "execute_result"
    },
    {
     "data": {
      "image/png": "[encoded data removed]",
      "text/plain": [
       "<Figure size 432x288 with 1 Axes>"
      ]
     },
     "metadata": {
      "needs_background": "light"
     },
     "output_type": "display_data"
    }
   ],
   "source": [
    "pirate_start = (0, 0)\n",
    "play_game(model, qmaze, pirate_start)\n",
    "show(qmaze)"
   ]
  },
  {
   "cell_type": "markdown",
   "metadata": {},
   "source": [
    "## Save and Submit Your Work\n",
    "After you have finished creating the code for your notebook, save your work. Make sure that your notebook contains your name in the filename (e.g. Doe_Jane_ProjectTwo.ipynb). This will help your instructor access and grade your work easily. Download a copy of your IPYNB file and submit it to Brightspace. Refer to the Jupyter Notebook in Apporto Tutorial if you need help with these tasks."
   ]
  }
 ],
 "metadata": {
  "kernelspec": {
   "display_name": "Python 3",
   "language": "python",
   "name": "python3"
  },
  "language_info": {
   "codemirror_mode": {
    "name": "ipython",
    "version": 3
   },
   "file_extension": ".py",
   "mimetype": "text/x-python",
   "name": "python",
   "nbconvert_exporter": "python",
   "pygments_lexer": "ipython3",
   "version": "3.7.4"
  }
 },
 "nbformat": 4,
 "nbformat_minor": 2
}
